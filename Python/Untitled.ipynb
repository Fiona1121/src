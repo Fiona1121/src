{
 "cells": [
  {
   "cell_type": "code",
   "execution_count": 8,
   "metadata": {},
   "outputs": [
    {
     "name": "stdout",
     "output_type": "stream",
     "text": [
      "dict_values([[1, 2, 3, 4], [2, 3, 4, 5, 6]])\n"
     ]
    }
   ],
   "source": [
    "dict = {\"fiona\": [1,2,3,4], \"charly\": [2,3,4,5,6]}\n",
    "print(dict.values())"
   ]
  },
  {
   "cell_type": "code",
   "execution_count": 50,
   "metadata": {},
   "outputs": [
    {
     "name": "stdout",
     "output_type": "stream",
     "text": [
      "{2.0: 2.0}\n"
     ]
    }
   ],
   "source": [
    "import pandas\n",
    "import numpy as np\n",
    "import csv\n",
    "\n",
    "rd = pandas.read_csv(\"data/small_maze.csv\").values\n",
    "nodes = []\n",
    "nd_dict = {}\n",
    "for x in range(len(rd)):\n",
    "    for y in range(1,5):\n",
    "        if not np.isnan(rd[x][y]):\n",
    "            nodes.append((rd[x][0],rd[x][y],rd[x][4+y]))\n",
    "            if rd[x][0] not in nd_dict.keys():\n",
    "                nd_dict[rd[x][0]] = {rd[x][y]:rd[x][4+y]}\n",
    "            else:\n",
    "                nd_dict[rd[x][0]][rd[x][y]] = rd[x][4+y]\n",
    "print(nd_dict[1])"
   ]
  },
  {
   "cell_type": "code",
   "execution_count": null,
   "metadata": {},
   "outputs": [],
   "source": []
  }
 ],
 "metadata": {
  "kernelspec": {
   "display_name": "Python 3",
   "language": "python",
   "name": "python3"
  },
  "language_info": {
   "codemirror_mode": {
    "name": "ipython",
    "version": 3
   },
   "file_extension": ".py",
   "mimetype": "text/x-python",
   "name": "python",
   "nbconvert_exporter": "python",
   "pygments_lexer": "ipython3",
   "version": "3.7.3"
  }
 },
 "nbformat": 4,
 "nbformat_minor": 2
}
